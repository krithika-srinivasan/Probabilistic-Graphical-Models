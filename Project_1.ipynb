{
 "cells": [
  {
   "cell_type": "markdown",
   "metadata": {},
   "source": [
    "# Import Statements"
   ]
  },
  {
   "cell_type": "code",
   "execution_count": 1,
   "metadata": {},
   "outputs": [],
   "source": [
    "import csv\n",
    "import pandas as pd\n",
    "import pgmpy"
   ]
  },
  {
   "cell_type": "markdown",
   "metadata": {},
   "source": [
    "# Import CSV files"
   ]
  },
  {
   "cell_type": "code",
   "execution_count": 2,
   "metadata": {},
   "outputs": [],
   "source": [
    "def GetInputFile(filepath):\n",
    "    t = []\n",
    "    with open(filepath, 'rU') as f:\n",
    "        reader = csv.reader(f)\n",
    "        for row in reader:  \n",
    "            t.append(row)\n",
    "    return t"
   ]
  },
  {
   "cell_type": "code",
   "execution_count": 3,
   "metadata": {
    "scrolled": true
   },
   "outputs": [
    {
     "name": "stderr",
     "output_type": "stream",
     "text": [
      "c:\\program files\\python36\\lib\\site-packages\\ipykernel_launcher.py:3: DeprecationWarning: 'U' mode is deprecated\n",
      "  This is separate from the ipykernel package so we can avoid doing imports until\n"
     ]
    }
   ],
   "source": [
    "table2 = GetInputFile('Table2.csv')\n",
    "table3 = GetInputFile('Table3.csv')\n",
    "table4 = GetInputFile('Table4.csv')\n",
    "table5 = GetInputFile('Table5.csv')\n",
    "table6 = GetInputFile('Table6.csv')\n",
    "table7 = GetInputFile('Table7.csv')\n",
    "table8 = GetInputFile('Table8.csv')"
   ]
  },
  {
   "cell_type": "markdown",
   "metadata": {},
   "source": [
    "# Function to Load the table"
   ]
  },
  {
   "cell_type": "code",
   "execution_count": 4,
   "metadata": {},
   "outputs": [],
   "source": [
    "def LoadTable(tableno):\n",
    "    if(tableno == 2):\n",
    "        return table2\n",
    "    if(tableno == 3):\n",
    "        return table3\n",
    "    if(tableno == 4):\n",
    "        return table4\n",
    "    if(tableno == 5):\n",
    "        return table5\n",
    "    if(tableno == 6):\n",
    "        return table6\n",
    "    if(tableno == 7):\n",
    "        return table7\n",
    "    if(tableno == 8):\n",
    "        return table8\n",
    "    "
   ]
  },
  {
   "cell_type": "markdown",
   "metadata": {},
   "source": [
    "# Function to Get the Denominator"
   ]
  },
  {
   "cell_type": "code",
   "execution_count": 5,
   "metadata": {},
   "outputs": [],
   "source": [
    "def GetDenominator(tableno):\n",
    "    if(tableno == 2):\n",
    "        return (table2[0][1], table2[1][1], table2[2][1], table2[3][1])\n",
    "    if(tableno == 3):\n",
    "        return (table2[0][1], table2[1][1], table2[2][1], table2[3][1])\n",
    "    if(tableno == 4):\n",
    "        return (table2[0][2], table2[1][2], table2[2][2], table2[3][2], table2[4][2])\n",
    "    if(tableno == 5):\n",
    "        return (table2[0][3], table2[1][3], table2[2][3])\n",
    "    if(tableno == 6):\n",
    "        return (table2[0][4], table2[1][4], table2[2][4], table2[3][4])\n",
    "    if(tableno == 7):\n",
    "        return (table2[0][5], table2[1][5], table2[2][5], table2[3][5])\n",
    "    if(tableno == 8):\n",
    "        return (table2[0][6], table2[1][6], table2[2][6], table2[3][6], table2[4][6])"
   ]
  },
  {
   "cell_type": "markdown",
   "metadata": {},
   "source": [
    "# Function to Get the Numerator"
   ]
  },
  {
   "cell_type": "code",
   "execution_count": 6,
   "metadata": {},
   "outputs": [],
   "source": [
    "def GetNumerator(firstchar):\n",
    "    if(firstchar == 'x01'):\n",
    "        return (table2[0][1], table2[1][1], table2[2][1], table2[3][1], table2[4][1])\n",
    "    if(firstchar == 'x02'):\n",
    "        return (table2[0][2], table2[1][2], table2[2][2], table2[3][2], table2[4][2])\n",
    "    if(firstchar == 'x03'):\n",
    "        return (table2[0][3], table2[1][3], table2[2][3], table2[3][3], table2[4][3])\n",
    "    if(firstchar == 'x04'):\n",
    "        return (table2[0][4], table2[1][4], table2[2][4], table2[3][4], table2[4][4])\n",
    "    if(firstchar == 'x05'):\n",
    "        return (table2[0][5], table2[1][5], table2[2][5], table2[3][5], table2[4][5])\n",
    "    if(firstchar == 'x06'):\n",
    "        return (table2[0][6], table2[1][6], table2[2][6], table2[3][6], table2[4][6])"
   ]
  },
  {
   "cell_type": "markdown",
   "metadata": {},
   "source": [
    "# Function to Get the Number of Classes"
   ]
  },
  {
   "cell_type": "code",
   "execution_count": 7,
   "metadata": {},
   "outputs": [],
   "source": [
    "def GetClassNo(tableno, firstchar):\n",
    "    if(tableno == 3):\n",
    "        if(firstchar == 'x02'):\n",
    "            return 5\n",
    "        if(firstchar == 'x04'):\n",
    "            return 4\n",
    "        if(firstchar == 'x06'):\n",
    "            return 5\n",
    "    if(tableno == 4):\n",
    "        if(firstchar == 'x03'):\n",
    "            return 3\n",
    "        if(firstchar == 'x05'):\n",
    "            return 4        \n",
    "    if(tableno == 5):\n",
    "        if(firstchar == 'x02'):\n",
    "            return 5\n",
    "        if(firstchar == 'x05'):\n",
    "            return 4\n",
    "        if(firstchar == 'x06'):\n",
    "            return 5\n",
    "    if(tableno == 6):\n",
    "        if(firstchar == 'x01'):\n",
    "            return 4\n",
    "        if(firstchar == 'x02'):\n",
    "            return 5\n",
    "        if(firstchar == 'x06'):\n",
    "            return 5\n",
    "    if(tableno == 7):\n",
    "        if(firstchar == 'x02'):\n",
    "            return 5\n",
    "        if(firstchar == 'x03'):\n",
    "            return 4\n",
    "    if(tableno == 8):\n",
    "        if(firstchar == 'x01'):\n",
    "            return 4\n",
    "        if(firstchar == 'x02'):\n",
    "            return 5\n",
    "        if(firstchar == 'x03'):\n",
    "            return 3\n",
    "        if(firstchar == 'x04'):\n",
    "            return 4"
   ]
  },
  {
   "cell_type": "markdown",
   "metadata": {},
   "source": [
    "# Number of Iterations"
   ]
  },
  {
   "cell_type": "code",
   "execution_count": 8,
   "metadata": {},
   "outputs": [],
   "source": [
    "def GetItercount(tableno):\n",
    "    if(tableno == 3):\n",
    "        return 3\n",
    "    if(tableno == 4):\n",
    "        return 2\n",
    "    if(tableno == 5):\n",
    "        return 3\n",
    "    if(tableno == 6):\n",
    "        return 3\n",
    "    if(tableno == 7):\n",
    "        return 2\n",
    "    if(tableno == 8):\n",
    "        return 4\n",
    "        "
   ]
  },
  {
   "cell_type": "markdown",
   "metadata": {},
   "source": [
    "# Get Node Names"
   ]
  },
  {
   "cell_type": "code",
   "execution_count": 9,
   "metadata": {},
   "outputs": [],
   "source": [
    "def GetNodeFromNo(tableno):\n",
    "    if(tableno == 3):\n",
    "        return 'x1'\n",
    "    if(tableno == 4):\n",
    "        return 'x2'\n",
    "    if(tableno == 5):\n",
    "        return 'x3'\n",
    "    if(tableno == 6):\n",
    "        return 'x4'\n",
    "    if(tableno == 7):\n",
    "        return 'x5'\n",
    "    if(tableno == 8):\n",
    "        return 'x6'\n",
    "def GetNodeFromFirstChar(firstchar):\n",
    "    if(firstchar == 'x01'):\n",
    "        return 'x1'\n",
    "    if(firstchar == 'x02'):\n",
    "        return 'x2'\n",
    "    if(firstchar == 'x03'):\n",
    "        return 'x3'\n",
    "    if(firstchar == 'x04'):\n",
    "        return 'x4'\n",
    "    if(firstchar == 'x05'):\n",
    "        return 'x5'\n",
    "    if(firstchar == 'x06'):\n",
    "        return 'x6'"
   ]
  },
  {
   "cell_type": "markdown",
   "metadata": {},
   "source": [
    "# Function to Calculate Closeness"
   ]
  },
  {
   "cell_type": "code",
   "execution_count": 10,
   "metadata": {},
   "outputs": [],
   "source": [
    "def GetCloseness(t, so_far):\n",
    "    table = LoadTable(t) \n",
    "    #print(\"Table\", t)\n",
    "    denominator = GetDenominator(t) \n",
    "    firstchar = table[so_far][0]\n",
    "    #print(firstchar)\n",
    "    numerator = GetNumerator(firstchar)\n",
    "    #i = GetClassNo(t, firstchar)\n",
    "    column_sum = 0\n",
    "    row_sum = 0\n",
    "    for x in range(0,i):\n",
    "        for y in range(0,len(denominator)):\n",
    "            column_wise = abs(((float(table[so_far + x][1 + y])) - float(numerator[x])) * float(denominator[y]))\n",
    "            column_sum = column_sum + column_wise\n",
    "        row_sum = row_sum + column_sum\n",
    "    return row_sum     \n",
    "\n",
    "    "
   ]
  },
  {
   "cell_type": "code",
   "execution_count": 11,
   "metadata": {},
   "outputs": [
    {
     "name": "stdout",
     "output_type": "stream",
     "text": [
      "x1 x2 0.35122499999999995\n",
      "x1 x4 0.23123500000000002\n",
      "x1 x6 0.16162000000000004\n",
      "x2 x3 0.181745\n",
      "x2 x5 0.10792499999999998\n",
      "x3 x2 0.3051379999999999\n",
      "x3 x5 0.13688000000000006\n",
      "x3 x6 0.10176\n",
      "x4 x1 0.16804000000000008\n",
      "x4 x2 0.17149999999999999\n",
      "x4 x6 0.17378999999999992\n",
      "x5 x2 0.07294999999999999\n",
      "x5 x3 0.11489999999999997\n",
      "x6 x1 0.49266\n",
      "x6 x2 0.31101500000000004\n",
      "x6 x3 1.1073750000000002\n",
      "x6 x4 0.45643\n"
     ]
    }
   ],
   "source": [
    "closeness = []\n",
    "for t in range(3,9):\n",
    "    table = LoadTable(t)\n",
    "    i = GetItercount(t)\n",
    "    so_far = 1\n",
    "    for c in range(0,i): #Number of changes for so_far\n",
    "        firstchar = table[so_far][0]\n",
    "        indep = GetCloseness(t, so_far)\n",
    "        increment = GetClassNo(t, firstchar)\n",
    "        so_far = so_far + increment\n",
    "        print(GetNodeFromNo(t), GetNodeFromFirstChar(firstchar),indep)\n",
    "        closeness.append([GetNodeFromNo(t), GetNodeFromFirstChar(firstchar),indep])\n"
   ]
  },
  {
   "cell_type": "markdown",
   "metadata": {},
   "source": [
    "# Function To Get The Edges"
   ]
  },
  {
   "cell_type": "code",
   "execution_count": 12,
   "metadata": {},
   "outputs": [],
   "source": [
    "def SortByThreshold(threshold):\n",
    "    approved = []\n",
    "    for i  in range(0,len(closeness)):\n",
    "        if(closeness[i][2] < threshold):\n",
    "            approved.append([closeness[i][0],closeness[i][1]])\n",
    "    return approved"
   ]
  },
  {
   "cell_type": "markdown",
   "metadata": {},
   "source": [
    "# Create the Dataframe"
   ]
  },
  {
   "cell_type": "code",
   "execution_count": 13,
   "metadata": {},
   "outputs": [
    {
     "data": {
      "text/html": [
       "<div>\n",
       "<style scoped>\n",
       "    .dataframe tbody tr th:only-of-type {\n",
       "        vertical-align: middle;\n",
       "    }\n",
       "\n",
       "    .dataframe tbody tr th {\n",
       "        vertical-align: top;\n",
       "    }\n",
       "\n",
       "    .dataframe thead th {\n",
       "        text-align: right;\n",
       "    }\n",
       "</style>\n",
       "<table border=\"1\" class=\"dataframe\">\n",
       "  <thead>\n",
       "    <tr style=\"text-align: right;\">\n",
       "      <th></th>\n",
       "      <th>x1</th>\n",
       "      <th>x2</th>\n",
       "      <th>x3</th>\n",
       "      <th>x4</th>\n",
       "      <th>x5</th>\n",
       "      <th>x6</th>\n",
       "    </tr>\n",
       "  </thead>\n",
       "  <tbody>\n",
       "    <tr>\n",
       "      <th>0</th>\n",
       "      <td>156</td>\n",
       "      <td>55</td>\n",
       "      <td>36</td>\n",
       "      <td>143</td>\n",
       "      <td>75</td>\n",
       "      <td>3</td>\n",
       "    </tr>\n",
       "    <tr>\n",
       "      <th>1</th>\n",
       "      <td>3</td>\n",
       "      <td>64</td>\n",
       "      <td>132</td>\n",
       "      <td>21</td>\n",
       "      <td>22</td>\n",
       "      <td>64</td>\n",
       "    </tr>\n",
       "    <tr>\n",
       "      <th>2</th>\n",
       "      <td>11</td>\n",
       "      <td>5</td>\n",
       "      <td>32</td>\n",
       "      <td>2</td>\n",
       "      <td>21</td>\n",
       "      <td>28</td>\n",
       "    </tr>\n",
       "    <tr>\n",
       "      <th>3</th>\n",
       "      <td>30</td>\n",
       "      <td>34</td>\n",
       "      <td>0</td>\n",
       "      <td>34</td>\n",
       "      <td>82</td>\n",
       "      <td>63</td>\n",
       "    </tr>\n",
       "    <tr>\n",
       "      <th>4</th>\n",
       "      <td>0</td>\n",
       "      <td>42</td>\n",
       "      <td>0</td>\n",
       "      <td>0</td>\n",
       "      <td>0</td>\n",
       "      <td>42</td>\n",
       "    </tr>\n",
       "  </tbody>\n",
       "</table>\n",
       "</div>"
      ],
      "text/plain": [
       "    x1  x2   x3   x4  x5  x6\n",
       "0  156  55   36  143  75   3\n",
       "1    3  64  132   21  22  64\n",
       "2   11   5   32    2  21  28\n",
       "3   30  34    0   34  82  63\n",
       "4    0  42    0    0   0  42"
      ]
     },
     "execution_count": 13,
     "metadata": {},
     "output_type": "execute_result"
    }
   ],
   "source": [
    "data = pd.DataFrame(data = { \"x1\" : [156, 3, 11, 30, 0],\n",
    "                             \"x2\" : [55, 64, 5, 34, 42],\n",
    "                             \"x3\" : [36, 132, 32, 0, 0],\n",
    "                             \"x4\" : [143, 21, 2, 34, 0],\n",
    "                             \"x5\" : [75, 22, 21, 82, 0],\n",
    "                             \"x6\" : [3, 64, 28, 63, 42]})\n",
    "data"
   ]
  },
  {
   "cell_type": "markdown",
   "metadata": {},
   "source": [
    "# Model 1 - Low Threshold"
   ]
  },
  {
   "cell_type": "code",
   "execution_count": 14,
   "metadata": {},
   "outputs": [],
   "source": [
    "#Low threshold -> More nodes\n",
    "#Threshold -> o.2\n",
    "approved = SortByThreshold(0.2)\n",
    "edges = []\n",
    "#Correct the format\n",
    "for i in range(0, len(approved)):\n",
    "    edges.append([(approved[i][0], approved[i][1])])"
   ]
  },
  {
   "cell_type": "code",
   "execution_count": 15,
   "metadata": {},
   "outputs": [
    {
     "data": {
      "text/plain": [
       "[[('x1', 'x6')],\n",
       " [('x2', 'x3')],\n",
       " [('x2', 'x5')],\n",
       " [('x3', 'x5')],\n",
       " [('x3', 'x6')],\n",
       " [('x4', 'x1')],\n",
       " [('x4', 'x2')],\n",
       " [('x4', 'x6')],\n",
       " [('x5', 'x2')],\n",
       " [('x5', 'x3')]]"
      ]
     },
     "execution_count": 15,
     "metadata": {},
     "output_type": "execute_result"
    }
   ],
   "source": [
    "edges"
   ]
  },
  {
   "cell_type": "code",
   "execution_count": 16,
   "metadata": {},
   "outputs": [],
   "source": [
    "from pgmpy.models import BayesianModel\n",
    "model1 = BayesianModel([('x1', 'x6'), \n",
    "                       ('x2', 'x3'), ('x2', 'x5'), \n",
    "                       ('x3', 'x5'), ('x3', 'x6'), \n",
    "                       ('x4', 'x1'), ('x4', 'x2'), ('x4', 'x6')])"
   ]
  },
  {
   "cell_type": "code",
   "execution_count": 17,
   "metadata": {},
   "outputs": [
    {
     "data": {
      "text/plain": [
       "[<TabularCPD representing P(x1:5 | x4:5) at 0x29300535e48>,\n",
       " <TabularCPD representing P(x2:5 | x4:5) at 0x29300535c88>,\n",
       " <TabularCPD representing P(x3:4 | x2:5) at 0x29300535eb8>,\n",
       " <TabularCPD representing P(x4:5) at 0x29300535d30>,\n",
       " <TabularCPD representing P(x5:5 | x2:5, x3:4) at 0x29300535e80>,\n",
       " <TabularCPD representing P(x6:5 | x1:5, x3:4, x4:5) at 0x293005724e0>]"
      ]
     },
     "execution_count": 17,
     "metadata": {},
     "output_type": "execute_result"
    }
   ],
   "source": [
    "#Add the cpds\n",
    "from pgmpy.base import DirectedGraph\n",
    "from pgmpy.factors.discrete import TabularCPD, JointProbabilityDistribution, DiscreteFactor\n",
    "from pgmpy.factors.continuous import ContinuousFactor\n",
    "from pgmpy.independencies import Independencies\n",
    "from pgmpy.extern import six\n",
    "from pgmpy.extern.six.moves import range, reduce\n",
    "from pgmpy.models.MarkovModel import MarkovModel\n",
    "\n",
    "\n",
    "values = data\n",
    "model1.fit(values)\n",
    "model1.get_cpds()"
   ]
  },
  {
   "cell_type": "code",
   "execution_count": 18,
   "metadata": {},
   "outputs": [
    {
     "name": "stdout",
     "output_type": "stream",
     "text": [
      "Model 1 K2 Score: -48.744003704015\n"
     ]
    }
   ],
   "source": [
    "from pgmpy.estimators import BayesianEstimator\n",
    "from pgmpy.estimators import K2Score\n",
    "est = BayesianEstimator(model1, data)\n",
    "k2 = K2Score(data)\n",
    "print('Model 1 K2 Score: ' + str(k2.score(model1)))"
   ]
  },
  {
   "cell_type": "markdown",
   "metadata": {},
   "source": [
    "# Model 2 - Very High Threshold"
   ]
  },
  {
   "cell_type": "code",
   "execution_count": 19,
   "metadata": {},
   "outputs": [
    {
     "data": {
      "text/plain": [
       "[[('x2', 'x5')],\n",
       " [('x3', 'x5')],\n",
       " [('x3', 'x6')],\n",
       " [('x5', 'x2')],\n",
       " [('x5', 'x3')]]"
      ]
     },
     "execution_count": 19,
     "metadata": {},
     "output_type": "execute_result"
    }
   ],
   "source": [
    "#Threshold -> o.1, fewer can get in\n",
    "approved = SortByThreshold(0.15)\n",
    "edges = []\n",
    "#Correct the format\n",
    "for i in range(0, len(approved)):\n",
    "    edges.append([(approved[i][0], approved[i][1])])\n",
    "edges"
   ]
  },
  {
   "cell_type": "code",
   "execution_count": 20,
   "metadata": {},
   "outputs": [
    {
     "data": {
      "text/plain": [
       "[<TabularCPD representing P(x2:5) at 0x2930059e588>,\n",
       " <TabularCPD representing P(x3:4) at 0x2930059e5f8>,\n",
       " <TabularCPD representing P(x5:5 | x2:5, x3:4) at 0x2930059e470>,\n",
       " <TabularCPD representing P(x6:5 | x3:4) at 0x2930059ec50>]"
      ]
     },
     "execution_count": 20,
     "metadata": {},
     "output_type": "execute_result"
    }
   ],
   "source": [
    "model2 = BayesianModel([('x2', 'x5'), \n",
    "                       ('x3', 'x5'), ('x3', 'x6')])\n",
    "#Add the cpds\n",
    "from pgmpy.base import DirectedGraph\n",
    "from pgmpy.factors.discrete import TabularCPD, JointProbabilityDistribution, DiscreteFactor\n",
    "from pgmpy.factors.continuous import ContinuousFactor\n",
    "from pgmpy.independencies import Independencies\n",
    "from pgmpy.extern import six\n",
    "from pgmpy.extern.six.moves import range, reduce\n",
    "from pgmpy.models.MarkovModel import MarkovModel\n",
    "\n",
    "\n",
    "values = data\n",
    "model2.fit(values)\n",
    "model2.get_cpds()"
   ]
  },
  {
   "cell_type": "code",
   "execution_count": 21,
   "metadata": {},
   "outputs": [
    {
     "name": "stdout",
     "output_type": "stream",
     "text": [
      "Model 2 K2 Score: -34.02017058382574\n"
     ]
    }
   ],
   "source": [
    "from pgmpy.estimators import BayesianEstimator\n",
    "from pgmpy.estimators import K2Score\n",
    "est = BayesianEstimator(model2, data)\n",
    "k2 = K2Score(data)\n",
    "print('Model 2 K2 Score: ' + str(k2.score(model2)))"
   ]
  },
  {
   "cell_type": "markdown",
   "metadata": {},
   "source": [
    "# Model 3 - Very Low Threshold"
   ]
  },
  {
   "cell_type": "code",
   "execution_count": 22,
   "metadata": {},
   "outputs": [
    {
     "data": {
      "text/plain": [
       "[[('x1', 'x4')],\n",
       " [('x1', 'x6')],\n",
       " [('x2', 'x3')],\n",
       " [('x2', 'x5')],\n",
       " [('x3', 'x5')],\n",
       " [('x3', 'x6')],\n",
       " [('x4', 'x1')],\n",
       " [('x4', 'x2')],\n",
       " [('x4', 'x6')],\n",
       " [('x5', 'x2')],\n",
       " [('x5', 'x3')]]"
      ]
     },
     "execution_count": 22,
     "metadata": {},
     "output_type": "execute_result"
    }
   ],
   "source": [
    "#Threshold  = 0.25\n",
    "approved = SortByThreshold(0.25)\n",
    "edges = []\n",
    "#Correct the format\n",
    "for i in range(0, len(approved)):\n",
    "    edges.append([(approved[i][0], approved[i][1])])\n",
    "edges"
   ]
  },
  {
   "cell_type": "code",
   "execution_count": 23,
   "metadata": {},
   "outputs": [],
   "source": [
    "from pgmpy.models import BayesianModel\n",
    "model3 = BayesianModel([('x1', 'x4'),('x1', 'x6'), \n",
    "                       ('x2', 'x3'), ('x2', 'x5'), \n",
    "                       ('x3', 'x5'), ('x3', 'x6'), \n",
    "                       ('x4', 'x2'), ('x4', 'x6'),])"
   ]
  },
  {
   "cell_type": "code",
   "execution_count": 24,
   "metadata": {},
   "outputs": [
    {
     "data": {
      "text/plain": [
       "[<TabularCPD representing P(x1:5) at 0x2937f41f198>,\n",
       " <TabularCPD representing P(x2:5 | x4:5) at 0x2937f41f978>,\n",
       " <TabularCPD representing P(x3:4 | x2:5) at 0x2937f416e10>,\n",
       " <TabularCPD representing P(x4:5 | x1:5) at 0x2937f416cc0>,\n",
       " <TabularCPD representing P(x5:5 | x2:5, x3:4) at 0x2937f41f8d0>,\n",
       " <TabularCPD representing P(x6:5 | x1:5, x3:4, x4:5) at 0x2930059e4a8>]"
      ]
     },
     "execution_count": 24,
     "metadata": {},
     "output_type": "execute_result"
    }
   ],
   "source": [
    "values = data\n",
    "model3.fit(values)\n",
    "model3.get_cpds()"
   ]
  },
  {
   "cell_type": "code",
   "execution_count": 25,
   "metadata": {},
   "outputs": [
    {
     "name": "stdout",
     "output_type": "stream",
     "text": [
      "Model 3 K2 Score: -48.74400370401501\n"
     ]
    }
   ],
   "source": [
    "from pgmpy.estimators import BayesianEstimator\n",
    "from pgmpy.estimators import K2Score\n",
    "est = BayesianEstimator(model3, data)\n",
    "k2 = K2Score(data)\n",
    "print('Model 3 K2 Score: ' + str(k2.score(model3)))"
   ]
  },
  {
   "cell_type": "markdown",
   "metadata": {},
   "source": [
    "# Model 4 -   Low Threshold (Reversed Directions)"
   ]
  },
  {
   "cell_type": "code",
   "execution_count": 26,
   "metadata": {},
   "outputs": [
    {
     "data": {
      "text/plain": [
       "[[('x1', 'x2')],\n",
       " [('x1', 'x4')],\n",
       " [('x1', 'x6')],\n",
       " [('x2', 'x3')],\n",
       " [('x2', 'x5')],\n",
       " [('x3', 'x2')],\n",
       " [('x3', 'x5')],\n",
       " [('x3', 'x6')],\n",
       " [('x4', 'x1')],\n",
       " [('x4', 'x2')],\n",
       " [('x4', 'x6')],\n",
       " [('x5', 'x2')],\n",
       " [('x5', 'x3')],\n",
       " [('x6', 'x2')]]"
      ]
     },
     "execution_count": 26,
     "metadata": {},
     "output_type": "execute_result"
    }
   ],
   "source": [
    "approved = SortByThreshold(0.4)\n",
    "edges = []\n",
    "#Correct the format\n",
    "for i in range(0, len(approved)):\n",
    "    edges.append([(approved[i][0], approved[i][1])])\n",
    "edges"
   ]
  },
  {
   "cell_type": "code",
   "execution_count": 27,
   "metadata": {},
   "outputs": [],
   "source": [
    "from pgmpy.models import BayesianModel\n",
    "model4 = BayesianModel([('x1', 'x2'), ('x1', 'x6'),                    \n",
    "                       ('x3', 'x2'), ('x3', 'x6'), \n",
    "                       ('x4', 'x1'), ('x4', 'x2'), ('x4', 'x6'), \n",
    "                       ('x5', 'x2'), ('x5', 'x3'), ('x6', 'x2')])"
   ]
  },
  {
   "cell_type": "code",
   "execution_count": 28,
   "metadata": {},
   "outputs": [
    {
     "data": {
      "text/plain": [
       "[<TabularCPD representing P(x1:5 | x4:5) at 0x2930059ea90>,\n",
       " <TabularCPD representing P(x2:5 | x1:5, x3:4, x4:5, x5:5, x6:5) at 0x293005b5668>,\n",
       " <TabularCPD representing P(x3:4 | x5:5) at 0x293005b5ef0>,\n",
       " <TabularCPD representing P(x4:5) at 0x293005b55c0>,\n",
       " <TabularCPD representing P(x5:5) at 0x293005b50b8>,\n",
       " <TabularCPD representing P(x6:5 | x1:5, x3:4, x4:5) at 0x2937f41f240>]"
      ]
     },
     "execution_count": 28,
     "metadata": {},
     "output_type": "execute_result"
    }
   ],
   "source": [
    "values = data\n",
    "model4.fit(values)\n",
    "model4.get_cpds()"
   ]
  },
  {
   "cell_type": "code",
   "execution_count": 29,
   "metadata": {},
   "outputs": [
    {
     "name": "stdout",
     "output_type": "stream",
     "text": [
      "Model 4 K2 Score: -50.32058779157802\n"
     ]
    }
   ],
   "source": [
    "from pgmpy.estimators import BayesianEstimator\n",
    "from pgmpy.estimators import K2Score\n",
    "est = BayesianEstimator(model4, data)\n",
    "k2 = K2Score(data)\n",
    "print('Model 4 K2 Score: ' + str(k2.score(model4)))"
   ]
  },
  {
   "cell_type": "markdown",
   "metadata": {},
   "source": [
    "# Model 5 - High Threshold (Reverse)"
   ]
  },
  {
   "cell_type": "code",
   "execution_count": 30,
   "metadata": {},
   "outputs": [
    {
     "data": {
      "text/plain": [
       "[[('x2', 'x5')],\n",
       " [('x3', 'x5')],\n",
       " [('x3', 'x6')],\n",
       " [('x5', 'x2')],\n",
       " [('x5', 'x3')]]"
      ]
     },
     "execution_count": 30,
     "metadata": {},
     "output_type": "execute_result"
    }
   ],
   "source": [
    "#Threshold -> o.1, fewer can get in\n",
    "approved = SortByThreshold(0.15)\n",
    "edges = []\n",
    "#Correct the format\n",
    "for i in range(0, len(approved)):\n",
    "    edges.append([(approved[i][0], approved[i][1])])\n",
    "edges"
   ]
  },
  {
   "cell_type": "code",
   "execution_count": 31,
   "metadata": {},
   "outputs": [
    {
     "data": {
      "text/plain": [
       "[<TabularCPD representing P(x2:5 | x5:5) at 0x2937f25acf8>,\n",
       " <TabularCPD representing P(x3:4 | x5:5) at 0x2937f41f710>,\n",
       " <TabularCPD representing P(x5:5) at 0x2937f41f780>,\n",
       " <TabularCPD representing P(x6:5 | x3:4) at 0x2937f41f5c0>]"
      ]
     },
     "execution_count": 31,
     "metadata": {},
     "output_type": "execute_result"
    }
   ],
   "source": [
    "model5 = BayesianModel([('x3', 'x6'), ('x5', 'x2'), ('x5', 'x3')])\n",
    "values = data\n",
    "model5.fit(values)\n",
    "model5.get_cpds()"
   ]
  },
  {
   "cell_type": "code",
   "execution_count": 32,
   "metadata": {},
   "outputs": [
    {
     "name": "stdout",
     "output_type": "stream",
     "text": [
      "Model 5 K2 Score: -32.83194613646794\n"
     ]
    }
   ],
   "source": [
    "from pgmpy.estimators import BayesianEstimator\n",
    "from pgmpy.estimators import K2Score\n",
    "est = BayesianEstimator(model5, data)\n",
    "k2 = K2Score(data)\n",
    "print('Model 5 K2 Score: ' + str(k2.score(model5)))"
   ]
  },
  {
   "cell_type": "markdown",
   "metadata": {},
   "source": [
    "# Task 3 - Construct a Bayesian Network from the AND Dataset"
   ]
  },
  {
   "cell_type": "code",
   "execution_count": 33,
   "metadata": {},
   "outputs": [
    {
     "name": "stderr",
     "output_type": "stream",
     "text": [
      "c:\\program files\\python36\\lib\\site-packages\\ipykernel_launcher.py:1: FutureWarning: from_csv is deprecated. Please use read_csv(...) instead. Note that some of the default arguments are different, so please refer to the documentation for from_csv when changing your function calls\n",
      "  \"\"\"Entry point for launching an IPython kernel.\n"
     ]
    }
   ],
   "source": [
    "and_data = pd.DataFrame.from_csv('AND-Features.csv')"
   ]
  },
  {
   "cell_type": "code",
   "execution_count": 34,
   "metadata": {},
   "outputs": [
    {
     "data": {
      "text/html": [
       "<div>\n",
       "<style scoped>\n",
       "    .dataframe tbody tr th:only-of-type {\n",
       "        vertical-align: middle;\n",
       "    }\n",
       "\n",
       "    .dataframe tbody tr th {\n",
       "        vertical-align: top;\n",
       "    }\n",
       "\n",
       "    .dataframe thead th {\n",
       "        text-align: right;\n",
       "    }\n",
       "</style>\n",
       "<table border=\"1\" class=\"dataframe\">\n",
       "  <thead>\n",
       "    <tr style=\"text-align: right;\">\n",
       "      <th></th>\n",
       "      <th>img_id</th>\n",
       "      <th>f1</th>\n",
       "      <th>f2</th>\n",
       "      <th>f3</th>\n",
       "      <th>f4</th>\n",
       "      <th>f5</th>\n",
       "      <th>f6</th>\n",
       "      <th>f7</th>\n",
       "      <th>f8</th>\n",
       "      <th>f9</th>\n",
       "    </tr>\n",
       "  </thead>\n",
       "  <tbody>\n",
       "    <tr>\n",
       "      <th>0</th>\n",
       "      <td>0359a</td>\n",
       "      <td>2</td>\n",
       "      <td>1</td>\n",
       "      <td>1</td>\n",
       "      <td>0</td>\n",
       "      <td>2</td>\n",
       "      <td>2</td>\n",
       "      <td>0</td>\n",
       "      <td>2</td>\n",
       "      <td>2</td>\n",
       "    </tr>\n",
       "    <tr>\n",
       "      <th>1</th>\n",
       "      <td>0577a</td>\n",
       "      <td>2</td>\n",
       "      <td>1</td>\n",
       "      <td>1</td>\n",
       "      <td>0</td>\n",
       "      <td>2</td>\n",
       "      <td>2</td>\n",
       "      <td>0</td>\n",
       "      <td>1</td>\n",
       "      <td>2</td>\n",
       "    </tr>\n",
       "    <tr>\n",
       "      <th>2</th>\n",
       "      <td>1120a</td>\n",
       "      <td>2</td>\n",
       "      <td>1</td>\n",
       "      <td>1</td>\n",
       "      <td>3</td>\n",
       "      <td>2</td>\n",
       "      <td>2</td>\n",
       "      <td>0</td>\n",
       "      <td>2</td>\n",
       "      <td>2</td>\n",
       "    </tr>\n",
       "    <tr>\n",
       "      <th>3</th>\n",
       "      <td>1120b</td>\n",
       "      <td>1</td>\n",
       "      <td>1</td>\n",
       "      <td>1</td>\n",
       "      <td>0</td>\n",
       "      <td>2</td>\n",
       "      <td>2</td>\n",
       "      <td>0</td>\n",
       "      <td>2</td>\n",
       "      <td>2</td>\n",
       "    </tr>\n",
       "    <tr>\n",
       "      <th>4</th>\n",
       "      <td>1120c</td>\n",
       "      <td>2</td>\n",
       "      <td>1</td>\n",
       "      <td>1</td>\n",
       "      <td>0</td>\n",
       "      <td>2</td>\n",
       "      <td>2</td>\n",
       "      <td>0</td>\n",
       "      <td>0</td>\n",
       "      <td>2</td>\n",
       "    </tr>\n",
       "    <tr>\n",
       "      <th>5</th>\n",
       "      <td>1121a</td>\n",
       "      <td>2</td>\n",
       "      <td>1</td>\n",
       "      <td>1</td>\n",
       "      <td>3</td>\n",
       "      <td>2</td>\n",
       "      <td>2</td>\n",
       "      <td>0</td>\n",
       "      <td>1</td>\n",
       "      <td>2</td>\n",
       "    </tr>\n",
       "    <tr>\n",
       "      <th>6</th>\n",
       "      <td>1121b</td>\n",
       "      <td>2</td>\n",
       "      <td>1</td>\n",
       "      <td>1</td>\n",
       "      <td>0</td>\n",
       "      <td>2</td>\n",
       "      <td>2</td>\n",
       "      <td>0</td>\n",
       "      <td>3</td>\n",
       "      <td>2</td>\n",
       "    </tr>\n",
       "    <tr>\n",
       "      <th>7</th>\n",
       "      <td>1121c</td>\n",
       "      <td>1</td>\n",
       "      <td>1</td>\n",
       "      <td>1</td>\n",
       "      <td>0</td>\n",
       "      <td>2</td>\n",
       "      <td>2</td>\n",
       "      <td>0</td>\n",
       "      <td>1</td>\n",
       "      <td>2</td>\n",
       "    </tr>\n",
       "    <tr>\n",
       "      <th>8</th>\n",
       "      <td>1229b</td>\n",
       "      <td>1</td>\n",
       "      <td>1</td>\n",
       "      <td>1</td>\n",
       "      <td>3</td>\n",
       "      <td>2</td>\n",
       "      <td>2</td>\n",
       "      <td>0</td>\n",
       "      <td>2</td>\n",
       "      <td>2</td>\n",
       "    </tr>\n",
       "    <tr>\n",
       "      <th>9</th>\n",
       "      <td>1302a</td>\n",
       "      <td>2</td>\n",
       "      <td>1</td>\n",
       "      <td>1</td>\n",
       "      <td>3</td>\n",
       "      <td>2</td>\n",
       "      <td>2</td>\n",
       "      <td>0</td>\n",
       "      <td>0</td>\n",
       "      <td>2</td>\n",
       "    </tr>\n",
       "    <tr>\n",
       "      <th>10</th>\n",
       "      <td>1302b</td>\n",
       "      <td>3</td>\n",
       "      <td>1</td>\n",
       "      <td>1</td>\n",
       "      <td>0</td>\n",
       "      <td>2</td>\n",
       "      <td>2</td>\n",
       "      <td>0</td>\n",
       "      <td>2</td>\n",
       "      <td>2</td>\n",
       "    </tr>\n",
       "    <tr>\n",
       "      <th>11</th>\n",
       "      <td>1302c</td>\n",
       "      <td>2</td>\n",
       "      <td>1</td>\n",
       "      <td>1</td>\n",
       "      <td>3</td>\n",
       "      <td>2</td>\n",
       "      <td>2</td>\n",
       "      <td>0</td>\n",
       "      <td>3</td>\n",
       "      <td>2</td>\n",
       "    </tr>\n",
       "    <tr>\n",
       "      <th>12</th>\n",
       "      <td>1305a</td>\n",
       "      <td>1</td>\n",
       "      <td>1</td>\n",
       "      <td>1</td>\n",
       "      <td>0</td>\n",
       "      <td>2</td>\n",
       "      <td>2</td>\n",
       "      <td>0</td>\n",
       "      <td>0</td>\n",
       "      <td>2</td>\n",
       "    </tr>\n",
       "    <tr>\n",
       "      <th>13</th>\n",
       "      <td>1305b</td>\n",
       "      <td>2</td>\n",
       "      <td>1</td>\n",
       "      <td>1</td>\n",
       "      <td>0</td>\n",
       "      <td>2</td>\n",
       "      <td>2</td>\n",
       "      <td>1</td>\n",
       "      <td>2</td>\n",
       "      <td>2</td>\n",
       "    </tr>\n",
       "    <tr>\n",
       "      <th>14</th>\n",
       "      <td>1305c</td>\n",
       "      <td>1</td>\n",
       "      <td>1</td>\n",
       "      <td>1</td>\n",
       "      <td>3</td>\n",
       "      <td>2</td>\n",
       "      <td>2</td>\n",
       "      <td>0</td>\n",
       "      <td>1</td>\n",
       "      <td>2</td>\n",
       "    </tr>\n",
       "    <tr>\n",
       "      <th>15</th>\n",
       "      <td>1386a</td>\n",
       "      <td>1</td>\n",
       "      <td>1</td>\n",
       "      <td>1</td>\n",
       "      <td>0</td>\n",
       "      <td>2</td>\n",
       "      <td>2</td>\n",
       "      <td>0</td>\n",
       "      <td>3</td>\n",
       "      <td>2</td>\n",
       "    </tr>\n",
       "    <tr>\n",
       "      <th>16</th>\n",
       "      <td>1386b</td>\n",
       "      <td>3</td>\n",
       "      <td>1</td>\n",
       "      <td>1</td>\n",
       "      <td>0</td>\n",
       "      <td>2</td>\n",
       "      <td>2</td>\n",
       "      <td>0</td>\n",
       "      <td>1</td>\n",
       "      <td>2</td>\n",
       "    </tr>\n",
       "    <tr>\n",
       "      <th>17</th>\n",
       "      <td>1386c</td>\n",
       "      <td>3</td>\n",
       "      <td>1</td>\n",
       "      <td>1</td>\n",
       "      <td>3</td>\n",
       "      <td>2</td>\n",
       "      <td>2</td>\n",
       "      <td>0</td>\n",
       "      <td>2</td>\n",
       "      <td>2</td>\n",
       "    </tr>\n",
       "    <tr>\n",
       "      <th>18</th>\n",
       "      <td>1391c</td>\n",
       "      <td>2</td>\n",
       "      <td>1</td>\n",
       "      <td>1</td>\n",
       "      <td>0</td>\n",
       "      <td>2</td>\n",
       "      <td>2</td>\n",
       "      <td>1</td>\n",
       "      <td>1</td>\n",
       "      <td>2</td>\n",
       "    </tr>\n",
       "    <tr>\n",
       "      <th>19</th>\n",
       "      <td>1489a</td>\n",
       "      <td>1</td>\n",
       "      <td>1</td>\n",
       "      <td>1</td>\n",
       "      <td>3</td>\n",
       "      <td>2</td>\n",
       "      <td>2</td>\n",
       "      <td>0</td>\n",
       "      <td>0</td>\n",
       "      <td>2</td>\n",
       "    </tr>\n",
       "    <tr>\n",
       "      <th>20</th>\n",
       "      <td>1489b</td>\n",
       "      <td>2</td>\n",
       "      <td>1</td>\n",
       "      <td>1</td>\n",
       "      <td>3</td>\n",
       "      <td>2</td>\n",
       "      <td>2</td>\n",
       "      <td>1</td>\n",
       "      <td>2</td>\n",
       "      <td>2</td>\n",
       "    </tr>\n",
       "    <tr>\n",
       "      <th>21</th>\n",
       "      <td>1517a</td>\n",
       "      <td>2</td>\n",
       "      <td>1</td>\n",
       "      <td>1</td>\n",
       "      <td>1</td>\n",
       "      <td>2</td>\n",
       "      <td>2</td>\n",
       "      <td>0</td>\n",
       "      <td>2</td>\n",
       "      <td>2</td>\n",
       "    </tr>\n",
       "    <tr>\n",
       "      <th>22</th>\n",
       "      <td>1517b</td>\n",
       "      <td>1</td>\n",
       "      <td>1</td>\n",
       "      <td>1</td>\n",
       "      <td>3</td>\n",
       "      <td>2</td>\n",
       "      <td>2</td>\n",
       "      <td>0</td>\n",
       "      <td>3</td>\n",
       "      <td>2</td>\n",
       "    </tr>\n",
       "    <tr>\n",
       "      <th>23</th>\n",
       "      <td>0331b</td>\n",
       "      <td>3</td>\n",
       "      <td>1</td>\n",
       "      <td>1</td>\n",
       "      <td>0</td>\n",
       "      <td>2</td>\n",
       "      <td>2</td>\n",
       "      <td>0</td>\n",
       "      <td>0</td>\n",
       "      <td>2</td>\n",
       "    </tr>\n",
       "    <tr>\n",
       "      <th>24</th>\n",
       "      <td>0367a</td>\n",
       "      <td>2</td>\n",
       "      <td>1</td>\n",
       "      <td>1</td>\n",
       "      <td>0</td>\n",
       "      <td>2</td>\n",
       "      <td>2</td>\n",
       "      <td>0</td>\n",
       "      <td>4</td>\n",
       "      <td>2</td>\n",
       "    </tr>\n",
       "    <tr>\n",
       "      <th>25</th>\n",
       "      <td>0367b</td>\n",
       "      <td>1</td>\n",
       "      <td>1</td>\n",
       "      <td>1</td>\n",
       "      <td>0</td>\n",
       "      <td>2</td>\n",
       "      <td>2</td>\n",
       "      <td>1</td>\n",
       "      <td>2</td>\n",
       "      <td>2</td>\n",
       "    </tr>\n",
       "    <tr>\n",
       "      <th>26</th>\n",
       "      <td>0367c</td>\n",
       "      <td>3</td>\n",
       "      <td>1</td>\n",
       "      <td>1</td>\n",
       "      <td>3</td>\n",
       "      <td>2</td>\n",
       "      <td>2</td>\n",
       "      <td>0</td>\n",
       "      <td>1</td>\n",
       "      <td>2</td>\n",
       "    </tr>\n",
       "    <tr>\n",
       "      <th>27</th>\n",
       "      <td>0379b</td>\n",
       "      <td>3</td>\n",
       "      <td>1</td>\n",
       "      <td>1</td>\n",
       "      <td>0</td>\n",
       "      <td>2</td>\n",
       "      <td>2</td>\n",
       "      <td>0</td>\n",
       "      <td>3</td>\n",
       "      <td>2</td>\n",
       "    </tr>\n",
       "    <tr>\n",
       "      <th>28</th>\n",
       "      <td>0458a</td>\n",
       "      <td>2</td>\n",
       "      <td>1</td>\n",
       "      <td>1</td>\n",
       "      <td>0</td>\n",
       "      <td>2</td>\n",
       "      <td>2</td>\n",
       "      <td>1</td>\n",
       "      <td>0</td>\n",
       "      <td>2</td>\n",
       "    </tr>\n",
       "    <tr>\n",
       "      <th>29</th>\n",
       "      <td>0565a</td>\n",
       "      <td>2</td>\n",
       "      <td>1</td>\n",
       "      <td>1</td>\n",
       "      <td>3</td>\n",
       "      <td>2</td>\n",
       "      <td>2</td>\n",
       "      <td>1</td>\n",
       "      <td>1</td>\n",
       "      <td>2</td>\n",
       "    </tr>\n",
       "    <tr>\n",
       "      <th>...</th>\n",
       "      <td>...</td>\n",
       "      <td>...</td>\n",
       "      <td>...</td>\n",
       "      <td>...</td>\n",
       "      <td>...</td>\n",
       "      <td>...</td>\n",
       "      <td>...</td>\n",
       "      <td>...</td>\n",
       "      <td>...</td>\n",
       "      <td>...</td>\n",
       "    </tr>\n",
       "    <tr>\n",
       "      <th>996</th>\n",
       "      <td>0594b</td>\n",
       "      <td>0</td>\n",
       "      <td>0</td>\n",
       "      <td>0</td>\n",
       "      <td>3</td>\n",
       "      <td>2</td>\n",
       "      <td>0</td>\n",
       "      <td>0</td>\n",
       "      <td>3</td>\n",
       "      <td>2</td>\n",
       "    </tr>\n",
       "    <tr>\n",
       "      <th>997</th>\n",
       "      <td>0594c</td>\n",
       "      <td>0</td>\n",
       "      <td>4</td>\n",
       "      <td>2</td>\n",
       "      <td>4</td>\n",
       "      <td>2</td>\n",
       "      <td>2</td>\n",
       "      <td>0</td>\n",
       "      <td>3</td>\n",
       "      <td>2</td>\n",
       "    </tr>\n",
       "    <tr>\n",
       "      <th>998</th>\n",
       "      <td>1271b</td>\n",
       "      <td>3</td>\n",
       "      <td>4</td>\n",
       "      <td>2</td>\n",
       "      <td>2</td>\n",
       "      <td>0</td>\n",
       "      <td>2</td>\n",
       "      <td>1</td>\n",
       "      <td>3</td>\n",
       "      <td>2</td>\n",
       "    </tr>\n",
       "    <tr>\n",
       "      <th>999</th>\n",
       "      <td>1271c</td>\n",
       "      <td>0</td>\n",
       "      <td>1</td>\n",
       "      <td>2</td>\n",
       "      <td>4</td>\n",
       "      <td>2</td>\n",
       "      <td>2</td>\n",
       "      <td>2</td>\n",
       "      <td>2</td>\n",
       "      <td>2</td>\n",
       "    </tr>\n",
       "    <tr>\n",
       "      <th>1000</th>\n",
       "      <td>0354c</td>\n",
       "      <td>1</td>\n",
       "      <td>0</td>\n",
       "      <td>0</td>\n",
       "      <td>1</td>\n",
       "      <td>0</td>\n",
       "      <td>1</td>\n",
       "      <td>3</td>\n",
       "      <td>2</td>\n",
       "      <td>2</td>\n",
       "    </tr>\n",
       "    <tr>\n",
       "      <th>1001</th>\n",
       "      <td>1091a</td>\n",
       "      <td>3</td>\n",
       "      <td>1</td>\n",
       "      <td>2</td>\n",
       "      <td>4</td>\n",
       "      <td>2</td>\n",
       "      <td>2</td>\n",
       "      <td>3</td>\n",
       "      <td>4</td>\n",
       "      <td>2</td>\n",
       "    </tr>\n",
       "    <tr>\n",
       "      <th>1002</th>\n",
       "      <td>0556b</td>\n",
       "      <td>0</td>\n",
       "      <td>2</td>\n",
       "      <td>0</td>\n",
       "      <td>1</td>\n",
       "      <td>0</td>\n",
       "      <td>2</td>\n",
       "      <td>1</td>\n",
       "      <td>1</td>\n",
       "      <td>1</td>\n",
       "    </tr>\n",
       "    <tr>\n",
       "      <th>1003</th>\n",
       "      <td>0556c</td>\n",
       "      <td>0</td>\n",
       "      <td>1</td>\n",
       "      <td>0</td>\n",
       "      <td>1</td>\n",
       "      <td>0</td>\n",
       "      <td>3</td>\n",
       "      <td>1</td>\n",
       "      <td>0</td>\n",
       "      <td>1</td>\n",
       "    </tr>\n",
       "    <tr>\n",
       "      <th>1004</th>\n",
       "      <td>0387a</td>\n",
       "      <td>0</td>\n",
       "      <td>1</td>\n",
       "      <td>0</td>\n",
       "      <td>2</td>\n",
       "      <td>0</td>\n",
       "      <td>1</td>\n",
       "      <td>2</td>\n",
       "      <td>2</td>\n",
       "      <td>2</td>\n",
       "    </tr>\n",
       "    <tr>\n",
       "      <th>1005</th>\n",
       "      <td>1414b</td>\n",
       "      <td>0</td>\n",
       "      <td>4</td>\n",
       "      <td>0</td>\n",
       "      <td>0</td>\n",
       "      <td>0</td>\n",
       "      <td>1</td>\n",
       "      <td>1</td>\n",
       "      <td>1</td>\n",
       "      <td>1</td>\n",
       "    </tr>\n",
       "    <tr>\n",
       "      <th>1006</th>\n",
       "      <td>1414c</td>\n",
       "      <td>1</td>\n",
       "      <td>0</td>\n",
       "      <td>1</td>\n",
       "      <td>1</td>\n",
       "      <td>3</td>\n",
       "      <td>1</td>\n",
       "      <td>1</td>\n",
       "      <td>2</td>\n",
       "      <td>1</td>\n",
       "    </tr>\n",
       "    <tr>\n",
       "      <th>1007</th>\n",
       "      <td>0365c</td>\n",
       "      <td>0</td>\n",
       "      <td>4</td>\n",
       "      <td>0</td>\n",
       "      <td>3</td>\n",
       "      <td>0</td>\n",
       "      <td>1</td>\n",
       "      <td>1</td>\n",
       "      <td>2</td>\n",
       "      <td>1</td>\n",
       "    </tr>\n",
       "    <tr>\n",
       "      <th>1008</th>\n",
       "      <td>0403a</td>\n",
       "      <td>2</td>\n",
       "      <td>0</td>\n",
       "      <td>2</td>\n",
       "      <td>1</td>\n",
       "      <td>0</td>\n",
       "      <td>1</td>\n",
       "      <td>0</td>\n",
       "      <td>1</td>\n",
       "      <td>1</td>\n",
       "    </tr>\n",
       "    <tr>\n",
       "      <th>1009</th>\n",
       "      <td>1103a</td>\n",
       "      <td>3</td>\n",
       "      <td>2</td>\n",
       "      <td>0</td>\n",
       "      <td>1</td>\n",
       "      <td>0</td>\n",
       "      <td>1</td>\n",
       "      <td>1</td>\n",
       "      <td>2</td>\n",
       "      <td>1</td>\n",
       "    </tr>\n",
       "    <tr>\n",
       "      <th>1010</th>\n",
       "      <td>0375b</td>\n",
       "      <td>1</td>\n",
       "      <td>3</td>\n",
       "      <td>0</td>\n",
       "      <td>1</td>\n",
       "      <td>0</td>\n",
       "      <td>2</td>\n",
       "      <td>0</td>\n",
       "      <td>2</td>\n",
       "      <td>1</td>\n",
       "    </tr>\n",
       "    <tr>\n",
       "      <th>1011</th>\n",
       "      <td>0323a</td>\n",
       "      <td>3</td>\n",
       "      <td>4</td>\n",
       "      <td>2</td>\n",
       "      <td>4</td>\n",
       "      <td>2</td>\n",
       "      <td>2</td>\n",
       "      <td>3</td>\n",
       "      <td>2</td>\n",
       "      <td>2</td>\n",
       "    </tr>\n",
       "    <tr>\n",
       "      <th>1012</th>\n",
       "      <td>0323b</td>\n",
       "      <td>3</td>\n",
       "      <td>0</td>\n",
       "      <td>0</td>\n",
       "      <td>1</td>\n",
       "      <td>0</td>\n",
       "      <td>3</td>\n",
       "      <td>1</td>\n",
       "      <td>1</td>\n",
       "      <td>1</td>\n",
       "    </tr>\n",
       "    <tr>\n",
       "      <th>1013</th>\n",
       "      <td>0597a</td>\n",
       "      <td>3</td>\n",
       "      <td>4</td>\n",
       "      <td>2</td>\n",
       "      <td>0</td>\n",
       "      <td>2</td>\n",
       "      <td>3</td>\n",
       "      <td>3</td>\n",
       "      <td>1</td>\n",
       "      <td>1</td>\n",
       "    </tr>\n",
       "    <tr>\n",
       "      <th>1014</th>\n",
       "      <td>1440b</td>\n",
       "      <td>0</td>\n",
       "      <td>4</td>\n",
       "      <td>0</td>\n",
       "      <td>2</td>\n",
       "      <td>0</td>\n",
       "      <td>2</td>\n",
       "      <td>0</td>\n",
       "      <td>4</td>\n",
       "      <td>1</td>\n",
       "    </tr>\n",
       "    <tr>\n",
       "      <th>1015</th>\n",
       "      <td>0376b</td>\n",
       "      <td>1</td>\n",
       "      <td>2</td>\n",
       "      <td>0</td>\n",
       "      <td>2</td>\n",
       "      <td>0</td>\n",
       "      <td>1</td>\n",
       "      <td>1</td>\n",
       "      <td>1</td>\n",
       "      <td>1</td>\n",
       "    </tr>\n",
       "    <tr>\n",
       "      <th>1016</th>\n",
       "      <td>0366b</td>\n",
       "      <td>3</td>\n",
       "      <td>1</td>\n",
       "      <td>2</td>\n",
       "      <td>4</td>\n",
       "      <td>3</td>\n",
       "      <td>2</td>\n",
       "      <td>0</td>\n",
       "      <td>2</td>\n",
       "      <td>2</td>\n",
       "    </tr>\n",
       "    <tr>\n",
       "      <th>1017</th>\n",
       "      <td>0434a</td>\n",
       "      <td>3</td>\n",
       "      <td>0</td>\n",
       "      <td>0</td>\n",
       "      <td>2</td>\n",
       "      <td>0</td>\n",
       "      <td>3</td>\n",
       "      <td>3</td>\n",
       "      <td>0</td>\n",
       "      <td>2</td>\n",
       "    </tr>\n",
       "    <tr>\n",
       "      <th>1018</th>\n",
       "      <td>0555a</td>\n",
       "      <td>1</td>\n",
       "      <td>4</td>\n",
       "      <td>0</td>\n",
       "      <td>2</td>\n",
       "      <td>0</td>\n",
       "      <td>2</td>\n",
       "      <td>3</td>\n",
       "      <td>4</td>\n",
       "      <td>1</td>\n",
       "    </tr>\n",
       "    <tr>\n",
       "      <th>1019</th>\n",
       "      <td>1165c</td>\n",
       "      <td>3</td>\n",
       "      <td>0</td>\n",
       "      <td>2</td>\n",
       "      <td>4</td>\n",
       "      <td>0</td>\n",
       "      <td>2</td>\n",
       "      <td>3</td>\n",
       "      <td>2</td>\n",
       "      <td>2</td>\n",
       "    </tr>\n",
       "    <tr>\n",
       "      <th>1020</th>\n",
       "      <td>0380b</td>\n",
       "      <td>1</td>\n",
       "      <td>3</td>\n",
       "      <td>2</td>\n",
       "      <td>3</td>\n",
       "      <td>3</td>\n",
       "      <td>2</td>\n",
       "      <td>0</td>\n",
       "      <td>2</td>\n",
       "      <td>2</td>\n",
       "    </tr>\n",
       "    <tr>\n",
       "      <th>1021</th>\n",
       "      <td>1083a</td>\n",
       "      <td>0</td>\n",
       "      <td>4</td>\n",
       "      <td>2</td>\n",
       "      <td>4</td>\n",
       "      <td>2</td>\n",
       "      <td>3</td>\n",
       "      <td>1</td>\n",
       "      <td>1</td>\n",
       "      <td>1</td>\n",
       "    </tr>\n",
       "    <tr>\n",
       "      <th>1022</th>\n",
       "      <td>1125b</td>\n",
       "      <td>1</td>\n",
       "      <td>1</td>\n",
       "      <td>2</td>\n",
       "      <td>4</td>\n",
       "      <td>3</td>\n",
       "      <td>2</td>\n",
       "      <td>1</td>\n",
       "      <td>2</td>\n",
       "      <td>1</td>\n",
       "    </tr>\n",
       "    <tr>\n",
       "      <th>1023</th>\n",
       "      <td>0416a</td>\n",
       "      <td>1</td>\n",
       "      <td>1</td>\n",
       "      <td>2</td>\n",
       "      <td>4</td>\n",
       "      <td>3</td>\n",
       "      <td>2</td>\n",
       "      <td>1</td>\n",
       "      <td>1</td>\n",
       "      <td>1</td>\n",
       "    </tr>\n",
       "    <tr>\n",
       "      <th>1024</th>\n",
       "      <td>1224b</td>\n",
       "      <td>2</td>\n",
       "      <td>4</td>\n",
       "      <td>2</td>\n",
       "      <td>4</td>\n",
       "      <td>3</td>\n",
       "      <td>3</td>\n",
       "      <td>3</td>\n",
       "      <td>4</td>\n",
       "      <td>2</td>\n",
       "    </tr>\n",
       "    <tr>\n",
       "      <th>1025</th>\n",
       "      <td>0302b</td>\n",
       "      <td>2</td>\n",
       "      <td>2</td>\n",
       "      <td>2</td>\n",
       "      <td>4</td>\n",
       "      <td>3</td>\n",
       "      <td>3</td>\n",
       "      <td>3</td>\n",
       "      <td>4</td>\n",
       "      <td>2</td>\n",
       "    </tr>\n",
       "  </tbody>\n",
       "</table>\n",
       "<p>1026 rows × 10 columns</p>\n",
       "</div>"
      ],
      "text/plain": [
       "     img_id  f1  f2  f3  f4  f5  f6  f7  f8  f9\n",
       "0     0359a   2   1   1   0   2   2   0   2   2\n",
       "1     0577a   2   1   1   0   2   2   0   1   2\n",
       "2     1120a   2   1   1   3   2   2   0   2   2\n",
       "3     1120b   1   1   1   0   2   2   0   2   2\n",
       "4     1120c   2   1   1   0   2   2   0   0   2\n",
       "5     1121a   2   1   1   3   2   2   0   1   2\n",
       "6     1121b   2   1   1   0   2   2   0   3   2\n",
       "7     1121c   1   1   1   0   2   2   0   1   2\n",
       "8     1229b   1   1   1   3   2   2   0   2   2\n",
       "9     1302a   2   1   1   3   2   2   0   0   2\n",
       "10    1302b   3   1   1   0   2   2   0   2   2\n",
       "11    1302c   2   1   1   3   2   2   0   3   2\n",
       "12    1305a   1   1   1   0   2   2   0   0   2\n",
       "13    1305b   2   1   1   0   2   2   1   2   2\n",
       "14    1305c   1   1   1   3   2   2   0   1   2\n",
       "15    1386a   1   1   1   0   2   2   0   3   2\n",
       "16    1386b   3   1   1   0   2   2   0   1   2\n",
       "17    1386c   3   1   1   3   2   2   0   2   2\n",
       "18    1391c   2   1   1   0   2   2   1   1   2\n",
       "19    1489a   1   1   1   3   2   2   0   0   2\n",
       "20    1489b   2   1   1   3   2   2   1   2   2\n",
       "21    1517a   2   1   1   1   2   2   0   2   2\n",
       "22    1517b   1   1   1   3   2   2   0   3   2\n",
       "23    0331b   3   1   1   0   2   2   0   0   2\n",
       "24    0367a   2   1   1   0   2   2   0   4   2\n",
       "25    0367b   1   1   1   0   2   2   1   2   2\n",
       "26    0367c   3   1   1   3   2   2   0   1   2\n",
       "27    0379b   3   1   1   0   2   2   0   3   2\n",
       "28    0458a   2   1   1   0   2   2   1   0   2\n",
       "29    0565a   2   1   1   3   2   2   1   1   2\n",
       "...     ...  ..  ..  ..  ..  ..  ..  ..  ..  ..\n",
       "996   0594b   0   0   0   3   2   0   0   3   2\n",
       "997   0594c   0   4   2   4   2   2   0   3   2\n",
       "998   1271b   3   4   2   2   0   2   1   3   2\n",
       "999   1271c   0   1   2   4   2   2   2   2   2\n",
       "1000  0354c   1   0   0   1   0   1   3   2   2\n",
       "1001  1091a   3   1   2   4   2   2   3   4   2\n",
       "1002  0556b   0   2   0   1   0   2   1   1   1\n",
       "1003  0556c   0   1   0   1   0   3   1   0   1\n",
       "1004  0387a   0   1   0   2   0   1   2   2   2\n",
       "1005  1414b   0   4   0   0   0   1   1   1   1\n",
       "1006  1414c   1   0   1   1   3   1   1   2   1\n",
       "1007  0365c   0   4   0   3   0   1   1   2   1\n",
       "1008  0403a   2   0   2   1   0   1   0   1   1\n",
       "1009  1103a   3   2   0   1   0   1   1   2   1\n",
       "1010  0375b   1   3   0   1   0   2   0   2   1\n",
       "1011  0323a   3   4   2   4   2   2   3   2   2\n",
       "1012  0323b   3   0   0   1   0   3   1   1   1\n",
       "1013  0597a   3   4   2   0   2   3   3   1   1\n",
       "1014  1440b   0   4   0   2   0   2   0   4   1\n",
       "1015  0376b   1   2   0   2   0   1   1   1   1\n",
       "1016  0366b   3   1   2   4   3   2   0   2   2\n",
       "1017  0434a   3   0   0   2   0   3   3   0   2\n",
       "1018  0555a   1   4   0   2   0   2   3   4   1\n",
       "1019  1165c   3   0   2   4   0   2   3   2   2\n",
       "1020  0380b   1   3   2   3   3   2   0   2   2\n",
       "1021  1083a   0   4   2   4   2   3   1   1   1\n",
       "1022  1125b   1   1   2   4   3   2   1   2   1\n",
       "1023  0416a   1   1   2   4   3   2   1   1   1\n",
       "1024  1224b   2   4   2   4   3   3   3   4   2\n",
       "1025  0302b   2   2   2   4   3   3   3   4   2\n",
       "\n",
       "[1026 rows x 10 columns]"
      ]
     },
     "execution_count": 34,
     "metadata": {},
     "output_type": "execute_result"
    }
   ],
   "source": [
    "and_data"
   ]
  },
  {
   "cell_type": "code",
   "execution_count": 48,
   "metadata": {},
   "outputs": [
    {
     "name": "stdout",
     "output_type": "stream",
     "text": [
      "[('x1', 'x2'), ('x3', 'x4'), ('x4', 'x6'), ('x4', 'x5'), ('x5', 'x1')]\n",
      "Best Model K2 Score: -48.53796562060374\n"
     ]
    }
   ],
   "source": [
    "#The above model is too large to be processed by Hill Climbing or Exhaustive Search, so instead we use Table2.csv \n",
    "from pgmpy.estimators import ExhaustiveSearch\n",
    "from pgmpy.estimators import HillClimbSearch\n",
    "k2 = K2Score(data)\n",
    "# es = ExhaustiveSearch(data, scoring_method=k2)\n",
    "# best_model = es.estimate()\n",
    "# print(best_model.edges())\n",
    "\n",
    "hc = HillClimbSearch(data, scoring_method=K2Score(data))\n",
    "best_model = hc.estimate()\n",
    "print(best_model.edges())\n",
    "print('Best Model K2 Score: ' + str(k2.score(best_model)))"
   ]
  },
  {
   "cell_type": "markdown",
   "metadata": {},
   "source": [
    "# Task 4 - Conversion to Markov Model"
   ]
  },
  {
   "cell_type": "code",
   "execution_count": 38,
   "metadata": {},
   "outputs": [
    {
     "data": {
      "text/plain": [
       "[('x1', 'x2'), ('x1', 'x5'), ('x5', 'x4'), ('x4', 'x3'), ('x4', 'x6')]"
      ]
     },
     "execution_count": 38,
     "metadata": {},
     "output_type": "execute_result"
    }
   ],
   "source": [
    "mm = best_model.to_markov_model()\n",
    "mm.edges()"
   ]
  },
  {
   "cell_type": "code",
   "execution_count": 39,
   "metadata": {},
   "outputs": [
    {
     "data": {
      "text/plain": [
       "defaultdict(int, {})"
      ]
     },
     "execution_count": 39,
     "metadata": {},
     "output_type": "execute_result"
    }
   ],
   "source": [
    "mm.get_cardinality()"
   ]
  },
  {
   "cell_type": "code",
   "execution_count": 40,
   "metadata": {},
   "outputs": [
    {
     "data": {
      "text/plain": [
       "<pgmpy.inference.ExactInference.BeliefPropagation at 0x29301b9a780>"
      ]
     },
     "execution_count": 40,
     "metadata": {},
     "output_type": "execute_result"
    }
   ],
   "source": [
    "from pgmpy.models import MarkovModel\n",
    "from pgmpy.inference import BeliefPropagation\n",
    "bp = BeliefPropagation(mm)\n",
    "bp"
   ]
  },
  {
   "cell_type": "code",
   "execution_count": 44,
   "metadata": {},
   "outputs": [
    {
     "data": {
      "text/plain": [
       "[('x4', 'x6'), ('x4', 'x5'), ('x4', 'x3'), ('x1', 'x5'), ('x2', 'x1')]"
      ]
     },
     "execution_count": 44,
     "metadata": {},
     "output_type": "execute_result"
    }
   ],
   "source": [
    "bp.get_cliques()"
   ]
  },
  {
   "cell_type": "code",
   "execution_count": 47,
   "metadata": {},
   "outputs": [
    {
     "name": "stdout",
     "output_type": "stream",
     "text": [
      "\"Markov\" model K2 Score: -50.32058779157801\n"
     ]
    }
   ],
   "source": [
    "modeltest = BayesianModel(bp.get_cliques())\n",
    "values = data\n",
    "modeltest.fit(values)\n",
    "est = BayesianEstimator(modeltest, data)\n",
    "k2 = K2Score(data)\n",
    "print('\"Markov\" model K2 Score: ' + str(k2.score(modeltest)))"
   ]
  }
 ],
 "metadata": {
  "kernelspec": {
   "display_name": "Python 3",
   "language": "python",
   "name": "python3"
  },
  "language_info": {
   "codemirror_mode": {
    "name": "ipython",
    "version": 3
   },
   "file_extension": ".py",
   "mimetype": "text/x-python",
   "name": "python",
   "nbconvert_exporter": "python",
   "pygments_lexer": "ipython3",
   "version": "3.6.2"
  }
 },
 "nbformat": 4,
 "nbformat_minor": 2
}
